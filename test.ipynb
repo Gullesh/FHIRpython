{
 "cells": [
  {
   "cell_type": "code",
   "execution_count": 22,
   "id": "0b149cda-f2d2-481f-b288-9265299a8340",
   "metadata": {},
   "outputs": [
    {
     "name": "stdout",
     "output_type": "stream",
     "text": [
      "6.5.0\n"
     ]
    }
   ],
   "source": [
    "import fhir.resources\n",
    "from fhir.resources.encounter import Encounter\n",
    "from fhir.resources.coding import Coding\n",
    "import json\n",
    "print(fhir.resources.__version__)"
   ]
  },
  {
   "cell_type": "code",
   "execution_count": 37,
   "id": "de02e6c5-96f7-44dc-a4fb-5591659a8b03",
   "metadata": {},
   "outputs": [
    {
     "data": {
      "text/plain": [
       "OrderedDict([('resourceType', 'Encounter'),\n",
       "             ('status', 'none'),\n",
       "             ('class',\n",
       "              OrderedDict([('system',\n",
       "                            'http://terminology.hl7.org/CodeSystem/v3-ActCode'),\n",
       "                           ('code', 'IMP')]))])"
      ]
     },
     "execution_count": 37,
     "metadata": {},
     "output_type": "execute_result"
    }
   ],
   "source": [
    "en = Encounter(resource_type= 'Encounter', status = 'none',class_fhir=Coding(\n",
    "        system=\"http://terminology.hl7.org/CodeSystem/v3-ActCode\",\n",
    "        code=\"IMP\"\n",
    "    ))\n",
    "en = en.dict()\n",
    "en"
   ]
  },
  {
   "cell_type": "code",
   "execution_count": 32,
   "id": "e86c85e7-050f-4760-be50-3be55262f3a2",
   "metadata": {},
   "outputs": [],
   "source": [
    "def save_to_ndjson(data, output_file):\n",
    "    with open(output_file, 'w') as f:\n",
    "        for record in data:\n",
    "            # Convert dates before writing\n",
    "            #record = convert_dates(record)\n",
    "            # Convert each OrderedDict to JSON and write it to the file\n",
    "            f.write(json.dumps(record) + '\\n')"
   ]
  },
  {
   "cell_type": "code",
   "execution_count": 33,
   "id": "a7e3cf43-1cc7-4d39-aefb-7646ff17f8b7",
   "metadata": {},
   "outputs": [],
   "source": [
    "output_file = 'encounterstest.ndjson'\n",
    "# Save to NDJSON\n",
    "save_to_ndjson(en, output_file)"
   ]
  },
  {
   "cell_type": "code",
   "execution_count": 39,
   "id": "da57b3be-d4fa-4531-ac68-896d283e88e3",
   "metadata": {},
   "outputs": [
    {
     "name": "stdout",
     "output_type": "stream",
     "text": [
      "Popped status: in-progress\n",
      "Modified dictionary: {'resourceType': 'Encounter', 'id': 'enc_1'}\n",
      "Popped status: completed\n",
      "Modified dictionary: {'resourceType': 'Encounter', 'id': 'enc_2'}\n",
      "Popped status: planned\n",
      "Modified dictionary: {'resourceType': 'Encounter', 'id': 'enc_3'}\n"
     ]
    },
    {
     "data": {
      "text/plain": [
       "[{'resourceType': 'Encounter', 'id': 'enc_1'},\n",
       " {'resourceType': 'Encounter', 'id': 'enc_2'},\n",
       " {'resourceType': 'Encounter', 'id': 'enc_3'}]"
      ]
     },
     "execution_count": 39,
     "metadata": {},
     "output_type": "execute_result"
    }
   ],
   "source": [
    "data = [\n",
    "    {'resourceType': 'Encounter', 'status': 'in-progress', 'id': 'enc_1'},\n",
    "    {'resourceType': 'Encounter', 'status': 'completed', 'id': 'enc_2'},\n",
    "    {'resourceType': 'Encounter', 'status': 'planned', 'id': 'enc_3'}\n",
    "]\n",
    "\n",
    "# Key to pop from each dictionary\n",
    "key_to_pop = 'status'\n",
    "\n",
    "# Pop out the key from each dictionary in the list\n",
    "for item in data:\n",
    "    popped_value = item.pop(key_to_pop, None)  # Pops 'status' if it exists\n",
    "    print(f\"Popped {key_to_pop}: {popped_value}\")\n",
    "    print(\"Modified dictionary:\", item)\n",
    "data"
   ]
  },
  {
   "cell_type": "code",
   "execution_count": 26,
   "id": "8d00f282-14b6-483c-8a4d-c07a67553bfa",
   "metadata": {},
   "outputs": [
    {
     "data": {
      "text/plain": [
       "array(['Yes', nan], dtype=object)"
      ]
     },
     "execution_count": 26,
     "metadata": {},
     "output_type": "execute_result"
    }
   ],
   "source": [
    "import pandas as pd\n",
    "aa = pd.read_csv('CEA.csv')\n",
    "aa['Postoperative Stroke'].unique()"
   ]
  },
  {
   "cell_type": "code",
   "execution_count": 41,
   "id": "c01dbad6-36f9-46ac-9474-a55700806611",
   "metadata": {},
   "outputs": [
    {
     "name": "stdout",
     "output_type": "stream",
     "text": [
      "(77, 85)\n"
     ]
    }
   ],
   "source": [
    "aa.iloc[:,3]\n",
    "d = aa[['Significant EEG change (visual analysis)', 'Postoperative Stroke', 'Significant SSEP change (visual analysis)', 'MAP prior to induction', 'Side of stroke']]\n",
    "#print(d[50:90])\n",
    "print(aa[aa['Postoperative Stroke']=='Yes'].shape)"
   ]
  },
  {
   "cell_type": "code",
   "execution_count": 33,
   "id": "35999acc-16e0-43b2-8459-abb3fce0c2fc",
   "metadata": {},
   "outputs": [
    {
     "name": "stdout",
     "output_type": "stream",
     "text": [
      "Periapp ID                                                                                                    0\n",
      "Postoperative Stroke                                                                                         15\n",
      "Postoperative Transient ischemic attack                                                                      15\n",
      "Does the patient have any of the coexisting conditions that mimic TIA?   (choice=Seizure)                    15\n",
      "Does the patient have any of the coexisting conditions that mimic TIA?   (choice=Migraine)                   15\n",
      "Does the patient have any of the coexisting conditions that mimic TIA?   (choice=Syncope)                    15\n",
      "Does the patient have any of the coexisting conditions that mimic TIA?   (choice=Infections)                 15\n",
      "Does the patient have any of the coexisting conditions that mimic TIA?   (choice=Metabolic abnormalities)    15\n",
      "Does the patient have any of the coexisting conditions that mimic TIA?   (choice=Other)                      15\n",
      "Side of stroke                                                                                               15\n",
      "Date of Postoperative stroke                                                                                 16\n",
      "Postoperative day of stroke onset                                                                            18\n",
      "Timeline of postoperative stroke                                                                             16\n",
      "Diagnostic Postprocedural imaging (choice=Carotid duplex ultrasound)                                         15\n",
      "Diagnostic Postprocedural imaging (choice=Conventional angiography)                                          15\n",
      "Diagnostic Postprocedural imaging (choice=CT angiography)                                                    15\n",
      "Diagnostic Postprocedural imaging (choice=MR angiography)                                                    15\n",
      "Other postprocedural imaging (choice=CT Brain)                                                               15\n",
      "Other postprocedural imaging (choice=MRI Brain)                                                              15\n",
      "Delirium                                                                                                     18\n",
      "Is the patient alive?                                                                                        15\n",
      "Complete?                                                                                                    15\n",
      "SSEP baseline                                                                                                16\n",
      "SSEP baseline abnormality (choice=Delayed)                                                                   15\n",
      "SSEP baseline abnormality (choice=Asymmetric amplitudes)                                                     15\n",
      "Significant SSEP change (visual analysis)                                                                    15\n",
      "EEG baseline                                                                                                 16\n",
      "EEG baseline abnormality (choice=Asymmetric)                                                                 15\n",
      "EEG baseline abnormality (choice=Burst suppression)                                                          15\n",
      "EEG baseline abnormality (choice=Other)                                                                      15\n",
      "Significant EEG change (visual analysis)                                                                     15\n",
      "Complete?.1                                                                                                  15\n",
      "dtype: int64\n"
     ]
    }
   ],
   "source": [
    "missing_values = aa.isnull().sum()\n",
    "\n",
    "print((missing_values[missing_values<20]))"
   ]
  },
  {
   "cell_type": "code",
   "execution_count": 6,
   "id": "294277d4-1bcc-4de9-a90a-67d92000ca10",
   "metadata": {},
   "outputs": [
    {
     "name": "stdout",
     "output_type": "stream",
     "text": [
      "Periapp ID                                                                0\n",
      "Repeat Instrument                                                        77\n",
      "Repeat Instance                                                          77\n",
      "Postoperative Stroke                                                     15\n",
      "MAP prior to induction                                                   45\n",
      "                                                                         ..\n",
      "EEG change start time                                                    81\n",
      "EEG change end time                                                      81\n",
      "Is this change within 5 minutes of a significant intraoperative event    83\n",
      "Is this change prominent?.1                                              81\n",
      "Complete?.3                                                              81\n",
      "Length: 85, dtype: int64\n"
     ]
    }
   ],
   "source": [
    "print(missing_values)"
   ]
  },
  {
   "cell_type": "code",
   "execution_count": 27,
   "id": "84f81bd2-a9bc-41e3-aae1-a86471eeab29",
   "metadata": {},
   "outputs": [
    {
     "data": {
      "text/plain": [
       "Index(['Periapp ID', 'Repeat Instrument', 'Repeat Instance',\n",
       "       'Postoperative Stroke', 'MAP prior to induction', 'ASA Class',\n",
       "       'Was there intraoperative hypotension?',\n",
       "       'Count of Intraoperative hypotension', 'ICD10?', 'Date of discharge',\n",
       "       'Postoperative Transient ischemic attack',\n",
       "       'Side of Transient Ischemic Attack', 'Date of Postoperative TIA',\n",
       "       'Postoperative day of TIA onset',\n",
       "       'Did the patient wake up with TIA at the end of the procedure?',\n",
       "       'Timeline of postoperative TIA',\n",
       "       'Does the patient have any of the coexisting conditions that mimic TIA?   (choice=Seizure)',\n",
       "       'Does the patient have any of the coexisting conditions that mimic TIA?   (choice=Migraine)',\n",
       "       'Does the patient have any of the coexisting conditions that mimic TIA?   (choice=Syncope)',\n",
       "       'Does the patient have any of the coexisting conditions that mimic TIA?   (choice=Infections)',\n",
       "       'Does the patient have any of the coexisting conditions that mimic TIA?   (choice=Metabolic abnormalities)',\n",
       "       'Does the patient have any of the coexisting conditions that mimic TIA?   (choice=Other)',\n",
       "       'Other coexisting conditions that mimic TIA', 'Side of stroke',\n",
       "       'Date of Postoperative stroke', 'Postoperative day of stroke onset',\n",
       "       'Did the patient wake up with stroke at the end of the procedure?',\n",
       "       'Timeline of postoperative stroke', 'Severity of stroke',\n",
       "       'NIHSS score for postoperative stroke',\n",
       "       'Rankin score for postoperative stroke', 'Type of postoperative stroke',\n",
       "       'Any neurologic deficits postoperatively?',\n",
       "       'Diagnostic Postprocedural imaging (choice=Carotid duplex ultrasound)',\n",
       "       'Diagnostic Postprocedural imaging (choice=Conventional angiography)',\n",
       "       'Diagnostic Postprocedural imaging (choice=CT angiography)',\n",
       "       'Diagnostic Postprocedural imaging (choice=MR angiography)',\n",
       "       'Did the patient have postoperative imaging (MRI/CT scan)?',\n",
       "       'Other postprocedural imaging (choice=CT Brain)',\n",
       "       'Other postprocedural imaging (choice=MRI Brain)',\n",
       "       'Were there any postoperative changes on MRI?',\n",
       "       'Were there any postoperative changes on CT scan?',\n",
       "       'Cranial nerve palsy', 'Delirium', 'Is the patient alive?',\n",
       "       'Date of death', 'Cause of death', 'Specify the cause of death',\n",
       "       'Complete?', 'SSEP baseline',\n",
       "       'SSEP baseline abnormality (choice=Delayed)',\n",
       "       'SSEP baseline abnormality (choice=Asymmetric amplitudes)',\n",
       "       'Significant SSEP change (visual analysis)', 'SSEP loss of response',\n",
       "       'Is the SSEP change permanent?', 'Is the SSEP change transient?',\n",
       "       'Is the SSEP change', 'Is the SSEP change ', 'SSEP study quality',\n",
       "       'Is expert review needed for this SSEP study?', 'EEG baseline',\n",
       "       'EEG baseline abnormality (choice=Asymmetric)',\n",
       "       'EEG baseline abnormality (choice=Burst suppression)',\n",
       "       'EEG baseline abnormality (choice=Other)',\n",
       "       'Significant EEG change (visual analysis)',\n",
       "       'Significant EEG change (quantitative analysis)',\n",
       "       'EEG loss of response', 'Is the EEG change permanent?',\n",
       "       'Is the EEG change transient?', 'Is the EEG change',\n",
       "       'Is the EEG change.1', 'EEG study quality ',\n",
       "       'Is expert review needed for this EEG study?',\n",
       "       'Use this case for the model?', 'Complete?.1', 'SSEP change start time',\n",
       "       'SSEP change end time', 'Is this change ', 'Is this change prominent?',\n",
       "       'Complete?.2', 'EEG change start time', 'EEG change end time',\n",
       "       'Is this change within 5 minutes of a significant intraoperative event',\n",
       "       'Is this change prominent?.1', 'Complete?.3'],\n",
       "      dtype='object')"
      ]
     },
     "execution_count": 27,
     "metadata": {},
     "output_type": "execute_result"
    }
   ],
   "source": [
    "aa.columns"
   ]
  },
  {
   "cell_type": "code",
   "execution_count": null,
   "id": "d5bf4dd2-b309-4180-a402-7b0684620b0e",
   "metadata": {},
   "outputs": [],
   "source": []
  }
 ],
 "metadata": {
  "kernelspec": {
   "display_name": "Python 3 (ipykernel)",
   "language": "python",
   "name": "python3"
  },
  "language_info": {
   "codemirror_mode": {
    "name": "ipython",
    "version": 3
   },
   "file_extension": ".py",
   "mimetype": "text/x-python",
   "name": "python",
   "nbconvert_exporter": "python",
   "pygments_lexer": "ipython3",
   "version": "3.11.9"
  }
 },
 "nbformat": 4,
 "nbformat_minor": 5
}
