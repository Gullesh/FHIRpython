{
 "cells": [
  {
   "cell_type": "code",
   "execution_count": 22,
   "id": "0b149cda-f2d2-481f-b288-9265299a8340",
   "metadata": {},
   "outputs": [
    {
     "name": "stdout",
     "output_type": "stream",
     "text": [
      "6.5.0\n"
     ]
    }
   ],
   "source": [
    "import fhir.resources\n",
    "from fhir.resources.encounter import Encounter\n",
    "from fhir.resources.coding import Coding\n",
    "import json\n",
    "print(fhir.resources.__version__)"
   ]
  },
  {
   "cell_type": "code",
   "execution_count": 37,
   "id": "de02e6c5-96f7-44dc-a4fb-5591659a8b03",
   "metadata": {},
   "outputs": [
    {
     "data": {
      "text/plain": [
       "OrderedDict([('resourceType', 'Encounter'),\n",
       "             ('status', 'none'),\n",
       "             ('class',\n",
       "              OrderedDict([('system',\n",
       "                            'http://terminology.hl7.org/CodeSystem/v3-ActCode'),\n",
       "                           ('code', 'IMP')]))])"
      ]
     },
     "execution_count": 37,
     "metadata": {},
     "output_type": "execute_result"
    }
   ],
   "source": [
    "en = Encounter(resource_type= 'Encounter', status = 'none',class_fhir=Coding(\n",
    "        system=\"http://terminology.hl7.org/CodeSystem/v3-ActCode\",\n",
    "        code=\"IMP\"\n",
    "    ))\n",
    "en = en.dict()\n",
    "en"
   ]
  },
  {
   "cell_type": "code",
   "execution_count": 32,
   "id": "e86c85e7-050f-4760-be50-3be55262f3a2",
   "metadata": {},
   "outputs": [],
   "source": [
    "def save_to_ndjson(data, output_file):\n",
    "    with open(output_file, 'w') as f:\n",
    "        for record in data:\n",
    "            # Convert dates before writing\n",
    "            #record = convert_dates(record)\n",
    "            # Convert each OrderedDict to JSON and write it to the file\n",
    "            f.write(json.dumps(record) + '\\n')"
   ]
  },
  {
   "cell_type": "code",
   "execution_count": 33,
   "id": "a7e3cf43-1cc7-4d39-aefb-7646ff17f8b7",
   "metadata": {},
   "outputs": [],
   "source": [
    "output_file = 'encounterstest.ndjson'\n",
    "# Save to NDJSON\n",
    "save_to_ndjson(en, output_file)"
   ]
  },
  {
   "cell_type": "code",
   "execution_count": 39,
   "id": "da57b3be-d4fa-4531-ac68-896d283e88e3",
   "metadata": {},
   "outputs": [
    {
     "name": "stdout",
     "output_type": "stream",
     "text": [
      "Popped status: in-progress\n",
      "Modified dictionary: {'resourceType': 'Encounter', 'id': 'enc_1'}\n",
      "Popped status: completed\n",
      "Modified dictionary: {'resourceType': 'Encounter', 'id': 'enc_2'}\n",
      "Popped status: planned\n",
      "Modified dictionary: {'resourceType': 'Encounter', 'id': 'enc_3'}\n"
     ]
    },
    {
     "data": {
      "text/plain": [
       "[{'resourceType': 'Encounter', 'id': 'enc_1'},\n",
       " {'resourceType': 'Encounter', 'id': 'enc_2'},\n",
       " {'resourceType': 'Encounter', 'id': 'enc_3'}]"
      ]
     },
     "execution_count": 39,
     "metadata": {},
     "output_type": "execute_result"
    }
   ],
   "source": [
    "data = [\n",
    "    {'resourceType': 'Encounter', 'status': 'in-progress', 'id': 'enc_1'},\n",
    "    {'resourceType': 'Encounter', 'status': 'completed', 'id': 'enc_2'},\n",
    "    {'resourceType': 'Encounter', 'status': 'planned', 'id': 'enc_3'}\n",
    "]\n",
    "\n",
    "# Key to pop from each dictionary\n",
    "key_to_pop = 'status'\n",
    "\n",
    "# Pop out the key from each dictionary in the list\n",
    "for item in data:\n",
    "    popped_value = item.pop(key_to_pop, None)  # Pops 'status' if it exists\n",
    "    print(f\"Popped {key_to_pop}: {popped_value}\")\n",
    "    print(\"Modified dictionary:\", item)\n",
    "data"
   ]
  },
  {
   "cell_type": "code",
   "execution_count": null,
   "id": "d5bf4dd2-b309-4180-a402-7b0684620b0e",
   "metadata": {},
   "outputs": [],
   "source": []
  }
 ],
 "metadata": {
  "kernelspec": {
   "display_name": "Python 3 (ipykernel)",
   "language": "python",
   "name": "python3"
  },
  "language_info": {
   "codemirror_mode": {
    "name": "ipython",
    "version": 3
   },
   "file_extension": ".py",
   "mimetype": "text/x-python",
   "name": "python",
   "nbconvert_exporter": "python",
   "pygments_lexer": "ipython3",
   "version": "3.9.6"
  }
 },
 "nbformat": 4,
 "nbformat_minor": 5
}
